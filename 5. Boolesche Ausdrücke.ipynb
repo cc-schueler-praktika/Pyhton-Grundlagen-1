{
 "cells": [
  {
   "cell_type": "markdown",
   "metadata": {},
   "source": [
    "# Boolesche Ausdrücke\n",
    "\n",
    "Sowohl die [`if`](https://docs.python.org/3.2/reference/compound_stmts.html#if)-Verzweigung als auch die [`while`](https://docs.python.org/3.2/reference/compound_stmts.html#while)-Schleife benötigen eine Bedingung. Im folgenden Kapitel wollen wir etwas genauer analysieren, wie solche Bedingungen formuliert werden können.\n",
    "\n",
    "Ein boolescher Ausdruck ist ein Ausdruck, der entweder wahr oder falsch ist, in Python [`True`](https://docs.python.org/3.2/library/constants.html#True) und [`False`](https://docs.python.org/3.2/library/constants.html#False) genannt. Dies sind auch gleich die einfachsten booleschen Ausdrücke.\n",
    "\n",
    "**True:**\n",
    "   \n",
    "   Dieser Ausdruck ist immer wahr.\n",
    "   \n",
    "**False:**\n",
    "   \n",
    "   Dieser Ausdruck ist immer falsch.\n",
    "   \n",
    "## Vergleiche\n",
    "\n",
    "Wir können zwei Variablen `var_1` und `var_2` miteinander vergleichen, falls in beiden derselbe Datentyp gespeichert ist. Wenn verschiedene Datentypen gespeichert sind, werden die Werte immer als ungleich betrachtet. Es existieren die folgenden Vergleiche:\n",
    "\n",
    "|Vergleich | Bedeutung |\n",
    "|-- |-- |\n",
    "|`var_1 == var_2` | `var_1` gleich `var_2` |\n",
    "|`var_1 > var_2` | `var_1` größer als `var_2` |\n",
    "|`var_1 >= var_2` | `var_1` größer gleich `var_2` |\n",
    "|`var_1 < var_2` | `var_1` kleiner als `var_2` |\n",
    "|`var_1 <= var_2` | `var_1` kleiner gleich `var_2` |\n",
    "|`var_1 != var_2` | `var_1` ungleich `var_2` |\n",
    "\n",
    "## Boolesche Operatoren\n",
    "\n",
    "Mit booleschen Operatoren können verschiedene boolesche Ausdrücke verkettet oder verneint werden. So können komplizierte Bedingungen wie „Ist A gleich B oder B gleich D“ formuliert werden. Es gibt die folgenden Operatoren:\n",
    "\n",
    "- **not:** Kehrt den Wahrheitswert eines Ausdrucks um. Der Operator macht dasselbe wie das deutsche Wort nicht.\n",
    "\n",
    "- **and:** Ist wahr, wenn die Ausdrücke links und rechts des Operators wahr sind. Es handelt sich um eine und-Verknüpfung.\n",
    "\n",
    "- **or:** Ist wahr, wenn der Ausdruck links oder der Ausdruck rechts des Operators wahr ist. Es ist auch wahr, wenn beide wahr sind. Es handelt sich um eine oder-Verknüpfung.\n",
    "\n",
    "Beispiel:"
   ]
  },
  {
   "cell_type": "code",
   "execution_count": null,
   "metadata": {},
   "outputs": [],
   "source": [
    "4 == 4 or 4 == 5"
   ]
  },
  {
   "cell_type": "markdown",
   "metadata": {},
   "source": [
    "Dieses Beispiel ist wahr, da 4 entweder gleich 4 oder gleich 5 ist. Hingegen ist das Ergebnis falsch, wenn man dieselbe Frage mit einem _und_ stellt:"
   ]
  },
  {
   "cell_type": "code",
   "execution_count": null,
   "metadata": {},
   "outputs": [],
   "source": [
    "4 == 4 and 4 == 5"
   ]
  },
  {
   "cell_type": "markdown",
   "metadata": {},
   "source": [
    "Denn vier kann nicht gleich vier und gleich fünf sein. Da vier nicht gleich fünf ist, ist aber die Frage danach, ob _vier nicht gleich fünf_ sei wahr:"
   ]
  },
  {
   "cell_type": "code",
   "execution_count": null,
   "metadata": {},
   "outputs": [],
   "source": [
    " not 4 == 5"
   ]
  },
  {
   "cell_type": "markdown",
   "metadata": {},
   "source": [
    "### Aufgaben\n",
    "\n",
    "1. Entscheide für jede Codezeile, ob der Boolesche Ausdruck wahr oder falsch ist, ohne das Beispiel auszuführen. Prüfe deine Antwort anschließen in dem du die Zeile ausführst."
   ]
  },
  {
   "cell_type": "code",
   "execution_count": null,
   "metadata": {},
   "outputs": [],
   "source": [
    "3 > 4"
   ]
  },
  {
   "cell_type": "code",
   "execution_count": null,
   "metadata": {},
   "outputs": [],
   "source": [
    "\"Hallo Welt\" > \"Hallo\""
   ]
  },
  {
   "cell_type": "code",
   "execution_count": null,
   "metadata": {},
   "outputs": [],
   "source": [
    "4 != 5"
   ]
  },
  {
   "cell_type": "code",
   "execution_count": null,
   "metadata": {},
   "outputs": [],
   "source": [
    "\"Hallo\" == \"Hallo Welt\""
   ]
  },
  {
   "cell_type": "code",
   "execution_count": null,
   "metadata": {},
   "outputs": [],
   "source": [
    "\"Hallo Welt\" > \"Hallo\" and 3 > 4"
   ]
  },
  {
   "cell_type": "code",
   "execution_count": null,
   "metadata": {},
   "outputs": [],
   "source": [
    "\"Hallo Welt\" > \"Hallo\" or 3 > 4"
   ]
  },
  {
   "cell_type": "code",
   "execution_count": null,
   "metadata": {},
   "outputs": [],
   "source": [
    "not \"Hallo Welt\" >= \"Hallo Welt\""
   ]
  },
  {
   "cell_type": "code",
   "execution_count": null,
   "metadata": {},
   "outputs": [],
   "source": [
    "not not 5 == 5"
   ]
  },
  {
   "cell_type": "code",
   "execution_count": null,
   "metadata": {},
   "outputs": [],
   "source": [
    "not 3 >= 4 and not 4 >= 5"
   ]
  },
  {
   "cell_type": "markdown",
   "metadata": {},
   "source": [
    "2. Das folgende Programm benutzt zwei geschachtelte [`if`](https://docs.python.org/3.2/reference/compound_stmts.html#if) Verzweigungen. Schreibe das Programm um, so dass es mit einer einzelnen Verzweigung auskommt:"
   ]
  },
  {
   "cell_type": "code",
   "execution_count": null,
   "metadata": {},
   "outputs": [],
   "source": [
    "zahl = int(input(\"Gib eine Zahl ein: \"))\n",
    "   \n",
    "if zahl % 2 == 0:\n",
    "    if zahl % 3 == 0:\n",
    "        print(\"Die eingegebene Zahl ist durch drei und zwei teilbar.\")\n",
    "    else:\n",
    "        print(\"Die eingegebene Zahl ist nicht durch drei und zwei teilbar.\")\n",
    "else:\n",
    "    print(\"Die eingegebene Zahl ist nicht durch drei und zwei teilbar.\")"
   ]
  },
  {
   "cell_type": "code",
   "execution_count": null,
   "metadata": {},
   "outputs": [],
   "source": [
    "# PLATZ FÜR DEINE LÖSUNG"
   ]
  }
 ],
 "metadata": {
  "kernelspec": {
   "display_name": "Python 3",
   "language": "python",
   "name": "python3"
  },
  "language_info": {
   "codemirror_mode": {
    "name": "ipython",
    "version": 3
   },
   "file_extension": ".py",
   "mimetype": "text/x-python",
   "name": "python",
   "nbconvert_exporter": "python",
   "pygments_lexer": "ipython3",
   "version": "3.7.3"
  }
 },
 "nbformat": 4,
 "nbformat_minor": 2
}
