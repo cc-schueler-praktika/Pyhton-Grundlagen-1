{
 "cells": [
  {
   "cell_type": "markdown",
   "metadata": {},
   "source": [
    "# Dictionary"
   ]
  },
  {
   "cell_type": "markdown",
   "metadata": {},
   "source": [
    "Die zusammengesetzten Datentypen, welche wir bisher behandelt  (Strings, Listen) verwenden Ganzzahlen als Indizes. Versucht man, einen anderen Datentyp als Index zu benutzen, erhält man eine Fehlermeldung.\n",
    "\n",
    "Der Datentyp Dictionary (deutscher Begriff: assoziative Liste, nicht sehr gebräuchlich) ist den anderen zusammengesetzten Datentypen ähnlich. Ein Unterschied besteht darin, dass man beliebige unveränderbare Datentypen für die Indizes verwenden kann. Ein Dictionary wird mit {} erstellt.\n",
    "\n",
    "Dies ist ein Dictionary, welches leer bzw. keine Einträge enthält.\n",
    "\n",
    "\n",
    "\n",
    "\n"
   ]
  },
  {
   "cell_type": "code",
   "execution_count": 14,
   "metadata": {},
   "outputs": [],
   "source": [
    "dictionary = {}"
   ]
  },
  {
   "cell_type": "markdown",
   "metadata": {},
   "source": [
    "Ein Möglichkeit, ein dictionary zu erzeugen, ist mit einem leeren Dictionary zu beginnen und dann Elemente hinzuzufügen.\n",
    "Als Beispiel werden wir ein Dictionary erzeugen um deutsche Wörter in englische Wörter zu übersetzen. Für dieses Dictionary sind die Indizes Strings."
   ]
  },
  {
   "cell_type": "code",
   "execution_count": 15,
   "metadata": {},
   "outputs": [
    {
     "name": "stdout",
     "output_type": "stream",
     "text": [
      "one\n"
     ]
    }
   ],
   "source": [
    "uebersetzer = {}\n",
    "uebersetzer['eins'] = 'one' \n",
    "uebersetzer['zwei'] = 'two'\n",
    "\n",
    "print(uebersetzer['eins'])"
   ]
  },
  {
   "cell_type": "markdown",
   "metadata": {},
   "source": [
    "Wie du siehst wird ein neues Element mittels [Index] = wert hinzugefügt. Beachte dabei, dass anders als bei den Listen die Variable innerhalb der eckigen Klammern nicht unbedingt eine Ganzzahl sein muss.\n",
    "\n",
    "\n",
    "\n"
   ]
  },
  {
   "cell_type": "code",
   "execution_count": 16,
   "metadata": {},
   "outputs": [
    {
     "name": "stdout",
     "output_type": "stream",
     "text": [
      "{'eins': 'one', 'zwei': 'two'}\n"
     ]
    }
   ],
   "source": [
    "print(uebersetzer)"
   ]
  },
  {
   "cell_type": "markdown",
   "metadata": {},
   "source": [
    "Die Elemente des Dictionary erscheinen in Form einer Komma-separierten Liste. Jedes Element enthält einen Index und einen Wert, die durch einen Doppelpunkt voneinander getrennt sind. In einem Dictionary nennt man die Indizes Schlüssel und daher die Elemente Schlüssel-Wert Paare."
   ]
  },
  {
   "cell_type": "markdown",
   "metadata": {},
   "source": [
    "Ein andere Möglichkeit, ein Dictionary zu erzeugen, ist eine Liste von Schlüssel-Wert Paaren in genau der Syntax anzugeben, die wir in obiger Ausgabe gesehen haben:"
   ]
  },
  {
   "cell_type": "code",
   "execution_count": 17,
   "metadata": {},
   "outputs": [
    {
     "name": "stdout",
     "output_type": "stream",
     "text": [
      "{'eins': 'one', 'zwei': 'two', 'drei': 'three'}\n"
     ]
    }
   ],
   "source": [
    "uebersetzer = {'eins': 'one', 'zwei': 'two', 'drei': 'three'}\n",
    "print(uebersetzer)"
   ]
  },
  {
   "cell_type": "markdown",
   "metadata": {},
   "source": [
    "Info: Die Schlüssel-Wert Paare müssen nicht unbedingt in der eingegebenen Reihenfolge ausgegeben werden. Zum Glück gibt es keinen Grund, sich um diese Reihenfolge überhaupt zu kümmern, da die Elemente dieses Dictionary niemals mit ganzen Zahlen indiziert werden. Wir benutzen ja statt dessen die Schlüssel, um die entsprechenden Werte zu ermitteln:"
   ]
  },
  {
   "cell_type": "markdown",
   "metadata": {},
   "source": [
    "# Aufgabe"
   ]
  },
  {
   "cell_type": "markdown",
   "metadata": {},
   "source": [
    "1. Führe die folgenden Zeilen aus und achte darauf, welche Zeilen funktionieren und welche nicht. Notiere dir die daraus resultierenden Regeln von Dictionaries auf."
   ]
  },
  {
   "cell_type": "code",
   "execution_count": 18,
   "metadata": {},
   "outputs": [
    {
     "name": "stdout",
     "output_type": "stream",
     "text": [
      "one\n",
      "uno\n",
      "{'eins': 'uno', 1: 'one'}\n"
     ]
    }
   ],
   "source": [
    "dictionary = {}\n",
    "dictionary['eins'] = 'one'\n",
    "print(dictionary['eins'])\n",
    "\n",
    "dictionary['eins'] = 'uno'\n",
    "print(dictionary['eins'])\n",
    "\n",
    "dictionary[1] = \"one\"\n",
    "print(dictionary)"
   ]
  },
  {
   "cell_type": "markdown",
   "metadata": {},
   "source": [
    "2. Im folgenden hast du eine Variable, langesWort, gegeben.\n",
    "   \n",
    "   2.1 Von welchen Datentyp ist die Variable langesWort?\n",
    "   2.2 Nun zähle die Vorkommen jedes Buchstabens in diesem Wort.\n",
    "       2.2.1 Du musst zuerst mithilfe einer For-Schleife über das Wort iterieren (siehe Kapitel 4)\n",
    "       2.2.2 Nun musst du das Vorkommen des Buchstaben in das dictionary speichern/aktualisieren"
   ]
  },
  {
   "cell_type": "code",
   "execution_count": 19,
   "metadata": {},
   "outputs": [],
   "source": [
    "langesWort = \"Kraftfahrzeug-Haftpflichtversicherung\"\n",
    "buchstabenVorkommen = {}"
   ]
  },
  {
   "cell_type": "markdown",
   "metadata": {},
   "source": [
    "# Dictionary Operationen"
   ]
  },
  {
   "cell_type": "markdown",
   "metadata": {},
   "source": [
    "Die del Anweisung entfernt ein Schlüssel-Wert Paar aus dem Dictionary. Zum Beispiel enthält das folgende Dictionary die Namen verschiedener Früchte und die Angabe, wieviele Früchte jeder Art auf Lager sind:"
   ]
  },
  {
   "cell_type": "code",
   "execution_count": 21,
   "metadata": {},
   "outputs": [
    {
     "name": "stdout",
     "output_type": "stream",
     "text": [
      "{'Aepfel': 430, 'Bananen': 312, 'Birnen': 217, 'Orangen': 525}\n"
     ]
    }
   ],
   "source": [
    "inventar = {'Aepfel': 430, 'Bananen': 312, 'Birnen': 217, 'Orangen': 525} \n",
    "print(inventar)"
   ]
  },
  {
   "cell_type": "markdown",
   "metadata": {},
   "source": [
    "Wenn jemand alle Birnen kauft, können wir den Eintrag für die Birnen aus dem Dictionary entfernen:\n"
   ]
  },
  {
   "cell_type": "code",
   "execution_count": 23,
   "metadata": {},
   "outputs": [
    {
     "name": "stdout",
     "output_type": "stream",
     "text": [
      "{'Aepfel': 430, 'Bananen': 312, 'Orangen': 525}\n"
     ]
    }
   ],
   "source": [
    "del inventar['Birnen'] \n",
    "print(inventar)"
   ]
  },
  {
   "cell_type": "markdown",
   "metadata": {},
   "source": [
    "Die len Funktion funktioniert auch mit dem Typ Dictionary; sie gibt die Anzahl der Schlüssel-Wert Paare zurück."
   ]
  },
  {
   "cell_type": "code",
   "execution_count": 24,
   "metadata": {},
   "outputs": [
    {
     "name": "stdout",
     "output_type": "stream",
     "text": [
      "3\n"
     ]
    }
   ],
   "source": [
    "print(len(inventar))"
   ]
  },
  {
   "cell_type": "markdown",
   "metadata": {},
   "source": [
    "# Dictionary Methoden"
   ]
  },
  {
   "cell_type": "markdown",
   "metadata": {},
   "source": [
    "Schwierig hier zu beschreiben, wenn man noch keine Methoden/Klassen gemacht hat"
   ]
  },
  {
   "cell_type": "code",
   "execution_count": null,
   "metadata": {},
   "outputs": [],
   "source": []
  }
 ],
 "metadata": {
  "kernelspec": {
   "display_name": "Python 3",
   "language": "python",
   "name": "python3"
  },
  "language_info": {
   "codemirror_mode": {
    "name": "ipython",
    "version": 3
   },
   "file_extension": ".py",
   "mimetype": "text/x-python",
   "name": "python",
   "nbconvert_exporter": "python",
   "pygments_lexer": "ipython3",
   "version": "3.6.5"
  }
 },
 "nbformat": 4,
 "nbformat_minor": 2
}
