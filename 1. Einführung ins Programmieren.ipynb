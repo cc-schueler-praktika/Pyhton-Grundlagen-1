{
 "cells": [
  {
   "cell_type": "markdown",
   "metadata": {},
   "source": [
    "# Einführung ins Programmieren\n",
    "\n",
    "In den meisten Programmiersprachen - so auch in Python - ist ein Programm eine einfache Textdatei, welche mit einem beliebigen Texteditor bearbeitet werden kann.\n",
    "\n",
    "Das Ausführen des Programms bedeutet einfach, dass Python die Anweisungen in der Textdatei Zeile für Zeile durcharbeitet, bis es am Ende der Datei angelangt ist.\n",
    "\n",
    "Das erste Beispielprogramm, welches üblicherweise in einer Programmiersprache verfasst wird, ist ein so genanntes „Hello World“-Programm, welches nichts anderes macht, als den Text „Hello World“ auf dem Bildschirm auszugeben.\n",
    "\n",
    "In Python ist ein solches Programm im Vergleich zu anderen Programmiersprachen sehr einfach umzusetzen. Es besteht nur aus einer Zeile:"
   ]
  },
  {
   "cell_type": "code",
   "execution_count": null,
   "metadata": {},
   "outputs": [],
   "source": [
    "print(\"Hello World!\")"
   ]
  },
  {
   "cell_type": "markdown",
   "metadata": {},
   "source": [
    "## Editoren und IDEs\n",
    "\n",
    "Wie oben erwähnt reicht zum Programmieren ein einfacher Texteditor. Im Gegensatz zu Textverarbeitungsprogrammen unterstützt reiner Text keine Formatierungen wie Schriftgrößen oder Schriftarten. Alle Farben, welche du im Texteditor siehst, werden vom Editor erstellt und sind nicht in der Datei selbst gespeichert. Sie dienen nur der Lesbarkeit vom Programmcode und werden vom Editor abhängig von der benutzen Programmiersprache festgelegt.\n",
    "\n",
    "Texteditoren wurden schon in den Anfängen der Computerprogrammierung benutzt, gewisse aus dieser Zeit werden heute noch in weiterentwickelter Form benutzt, unter ihnen zum Beispiel Emacs und Vim. Wer einen moderneren Editor benutzen möchte, installiert zum Beispiel Atom.\n",
    "\n",
    "Jedoch werden oft sogenannte IDEs (Integrated Development Environment) zum Schreiben von Programmen benutzt. Diese besitzen viele hilfreiche Funktionen, welche ein Texteditor nicht hat, welche einem beim Programmieren unterstützen:\n",
    "\n",
    "- Das Programm kann direkt in der IDE ausgeführt werden und muss nicht separat aufgerufen werden.\n",
    "- Die Befehle werden automatisch vervollständigt, so dass man nicht die ganzen Befehle tippen musst.\n",
    "- Gewisse Fehler im Programm werden schon während dem Programmieren erkannt und als solche gekennzeichnet.\n",
    "\n",
    "Jetzt am Anfang brauchst du noch keine IDE und kannst den Code direkt in diesem Jupyter Notebook schreiben und ausführen. Aber auch hier siehst du bereits, dass der Code mit verschiedenen Farben formatiert wird um die Lesbarkeits zu erhöhen.\n",
    "\n",
    "## Eingabe und Ausgabe\n",
    "\n",
    "Computer arbeiten grundsätzlich nach dem _EVA_-Prinzip. Die Abkürzung _EVA_ steht für _Eingabe_, _Verarbeitung_ und _Ausgabe_. Damit ist gemeint, dass wir dem Computer zu Beginn über eine Tastatur, eine Maus, einen Touchbildschirm oder über andere Eingabegeräte Daten oder Befehle zur Verarbeitung liefern.\n",
    "\n",
    "Anschließend verarbeitet der Computer unsere Daten gemäß den erteilten Befehlen und gibt uns die berechnete Antwort über ein Ausgabegerät zurück. Dies kann ein Bildschirm, ein Drucker oder ein anderes, spezialisiertes Gerät zur Darstellung von Daten sein.\n",
    "\n",
    "Wir werden uns in den folgenden Kapiteln mit der einfachsten Art der Ein- und Ausgabe begnügen, in dem wir den Programmen vorerst nur Text übergeben und sie uns auch wieder Text zurückgeben. Wir haben schon gesehen, dass wir mit `print(\"Hello World\")` Text ausgeben können. Umgekehrt können wir mit der Funktion [`input()`](https://docs.python.org/3.2/library/functions.html#input) Text einlesen. Dabei kannst du in der Klammer eine Frage an den Benutzer eingeben. Die folgende Zeile führt dazu, dass du Text eingeben kannst. Der Computer fordert dabei den Benutzer zunächst auf „Gib bitte etwas Text ein: “ und warten anschließend auf die Eingabe, welche mit Drücken der Enter-Taste abgeschlossen wird."
   ]
  },
  {
   "cell_type": "code",
   "execution_count": null,
   "metadata": {},
   "outputs": [],
   "source": [
    "input(\"Gib bitte etwas Text ein: \")"
   ]
  },
  {
   "cell_type": "markdown",
   "metadata": {},
   "source": [
    "Du kannst so gewissermaßen einen eigenen Befehlsprompt programmieren."
   ]
  }
 ],
 "metadata": {
  "kernelspec": {
   "display_name": "Python 3",
   "language": "python",
   "name": "python3"
  },
  "language_info": {
   "codemirror_mode": {
    "name": "ipython",
    "version": 3
   },
   "file_extension": ".py",
   "mimetype": "text/x-python",
   "name": "python",
   "nbconvert_exporter": "python",
   "pygments_lexer": "ipython3",
   "version": "3.7.3"
  }
 },
 "nbformat": 4,
 "nbformat_minor": 2
}
