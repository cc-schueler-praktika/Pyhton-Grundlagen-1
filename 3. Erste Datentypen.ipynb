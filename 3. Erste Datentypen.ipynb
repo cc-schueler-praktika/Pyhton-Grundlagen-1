{
 "cells": [
  {
   "cell_type": "markdown",
   "metadata": {},
   "source": [
    "# Erste Datentypen"
   ]
  },
  {
   "cell_type": "markdown",
   "metadata": {},
   "source": [
    "## Zahlen"
   ]
  },
  {
   "cell_type": "markdown",
   "metadata": {},
   "source": [
    "Python kann verschiedene Arten von Zahlen darstellen und speichern. Wir werden uns hier auf die Zahlen beschränken, welche in der Programmierung oft benutzt werden. Dies sind ganze Zahlen und Fließkommazahlen. Python kann aber auch mit Brüchen, komplexen Zahlen oder Dezimalzahlen mit einer festen Anzahl Dezimalstellen rechnen.\n",
    "\n",
    "- **Integer: Ganze Zahlen**\n",
    "    \n",
    "    Ganze Zahlen sind sowohl negative als auch positive Zahlen ohne Nachkommastellen. Mit diesen kann Python sehr gut umgehen. Im Gegensatz zu anderen Programmiersprachen sind sie in der Größe nicht eingeschränkt. Du kannst beliebig große ganze Zahlen speichern. Dies ist natürlich nur theoretisch korrekt. Der Arbeitspeicher deines Computers ist beschränkt. Das heißt, wenn dieser voll ist, kann die Zahl nicht mehr größer werden. Aber um den Arbeitspeicher heutiger Rechner zu füllen, braucht es unvorstellbar große Zahlen.\n",
    "\n",
    "\n",
    "- **Float : Fließkommazahlen**\n",
    "    \n",
    "    Fließkommazahlen gibt es in den meisten Programmiersprachen. Sie werden benutzt, um Dezimalzahlen zu speichern. Die Arbeit mit Fließkommazahlen bietet aber auch einiges an Stolpersteinen. Vor allem wenn die Zahlen betragsmäßig sehr groß werden oder sehr nahe bei 0 liegen, kann es Probleme mit der Genauigkeit geben - wie wir weiter unten selbst beobachten werden.\n",
    "    \n",
    "Die folgenden Zahlen sind in Python alle zulässig. Sobald ein Punkt, ein `e` oder ein `E` vorkommt werden sie als Fließkommazahl interpretiert:"
   ]
  },
  {
   "cell_type": "code",
   "execution_count": null,
   "metadata": {},
   "outputs": [],
   "source": [
    "# Ganze Zahlen (Integer)\n",
    "0\n",
    "12\n",
    "1220200399948882888338278\n",
    "-5\n",
    "-11692013098647223345629478661730264157247460343808\n",
    "\n",
    "# Fließkommazahlen (Float)\n",
    "0.0\n",
    "23.0\n",
    "0.234\n",
    "-1e-1\n",
    "12E4"
   ]
  },
  {
   "cell_type": "markdown",
   "metadata": {},
   "source": [
    "Eine kurze Erklärung braucht der Buchstabe `e` oder `E`. Beide Schreibweisen stehen für das gleiche und sind dir vielleicht schon vom Taschenrechner bekannt. Es handelt sich dabei um die wissenschaftliche Schreibweise von Zahlen mit Zehnerpotenzen. So steht zum Beispiel `1.2E4` für $1,2⋅10^4$ oder `-1e-1` für $−1⋅10^{−1}$.\n",
    "\n",
    "> **Siehe auch:** Das Modul [`fractions`](https://docs.python.org/3.2/library/fractions.html#module-fractions) unterstützt auch Bruchrechnen. Falls man präzise und ausschließlich mit rationalen Zahlen rechnet, können damit die Probleme der Fließkommazahlen umgangen werden. Das Modul [`decimal`](https://docs.python.org/3.2/library/decimal.html#module-decimal) kann zum präziseren - jedoch langsameren - Rechnen mit Dezimalzahlen benutzt werden.\n",
    "\n",
    "### Aufgaben\n",
    "\n",
    "1. Probiere die nachfolgenden Operatoren mit verschiedenen Zahlen aus und notiere dir, was sie tun. Setze dafür `x` und `y` verschiedene Zahlen ein, bis du herausgefunden hast, was die Operatoren tun."
   ]
  },
  {
   "cell_type": "code",
   "execution_count": null,
   "metadata": {},
   "outputs": [],
   "source": [
    "x = # FÜGE HIER NACHEINANDER VERSCHIEDENE ZAHLEN EIN\n",
    "y = # FÜGE HIER NACHEINANDER VERSCHIEDENE ZAHLEN EIN"
   ]
  },
  {
   "cell_type": "code",
   "execution_count": null,
   "metadata": {},
   "outputs": [],
   "source": [
    "x + y"
   ]
  },
  {
   "cell_type": "code",
   "execution_count": null,
   "metadata": {},
   "outputs": [],
   "source": [
    "x - y"
   ]
  },
  {
   "cell_type": "code",
   "execution_count": null,
   "metadata": {},
   "outputs": [],
   "source": [
    "x % y"
   ]
  },
  {
   "cell_type": "code",
   "execution_count": null,
   "metadata": {},
   "outputs": [],
   "source": [
    "-x"
   ]
  },
  {
   "cell_type": "code",
   "execution_count": null,
   "metadata": {},
   "outputs": [],
   "source": [
    "x * y"
   ]
  },
  {
   "cell_type": "code",
   "execution_count": null,
   "metadata": {},
   "outputs": [],
   "source": [
    "x / y"
   ]
  },
  {
   "cell_type": "code",
   "execution_count": null,
   "metadata": {},
   "outputs": [],
   "source": [
    "x**y"
   ]
  },
  {
   "cell_type": "code",
   "execution_count": null,
   "metadata": {},
   "outputs": [],
   "source": [
    "x // y"
   ]
  },
  {
   "cell_type": "markdown",
   "metadata": {},
   "source": [
    "2. Was gibt das unten stehende Programm aus? Gehe es zuerst im Kopf durch und probiere es anschließend aus."
   ]
  },
  {
   "cell_type": "code",
   "execution_count": null,
   "metadata": {},
   "outputs": [],
   "source": [
    "x = 2\n",
    "y = 3\n",
    "z = x + y\n",
    "x = z\n",
    "y = x\n",
    "print(x)\n",
    "print(y)\n",
    "print(z)"
   ]
  },
  {
   "cell_type": "markdown",
   "metadata": {},
   "source": [
    "3. Probiere die folgenden Rechnungen aus. Welches Ergebis erwartest du? Woran liegt es, dass du nicht das erwartete Ergebnis erhältst?"
   ]
  },
  {
   "cell_type": "code",
   "execution_count": null,
   "metadata": {},
   "outputs": [],
   "source": [
    "0.1 + 0.1 + 0.1 - 0.3"
   ]
  },
  {
   "cell_type": "code",
   "execution_count": null,
   "metadata": {},
   "outputs": [],
   "source": [
    "5 + 10**40 - 10**40"
   ]
  },
  {
   "cell_type": "code",
   "execution_count": null,
   "metadata": {},
   "outputs": [],
   "source": [
    "5.0 + 10**40 - 10**40"
   ]
  },
  {
   "cell_type": "markdown",
   "metadata": {},
   "source": [
    "4. Angenommen, du hast in einem Schuljahr vier Prüfungen in einem Fach. Nun sind drei dieser Prüfungen vorbei und du möchtest wissen, welche Note du in der vierten Prüfung haben musst, um deinen Wunschschnitt zu erreichen.\n",
    "\n",
    "   Schreibe ein Programm, welches dir diese Frage beantwortet. Benutze vier Variablen um die drei Noten und den Wunsch-Durchschnitt (`note_1`, `note_2`, `note_3`, `durchschnitt`) abzuspeichern und lasse das Programm daraus die letzte Note (`note_4`) berechnen, welche du brauchst, um den Wunsch-Durchschnitt zu erreichen. Diese kannst du mit dem [`print()`](https://docs.python.org/3.2/library/functions.html#print) Befehl ausgeben.\n",
    "   \n",
    "   Zu dieser und einigen nachfolgenden Aufgaben gibt es noch eine kleine Besonderheit. Unter der Zelle mit dem Platz für deine Lösung findest du eine weitere Zelle mit dem `%run`-Kommando, welches eine Python-Datei mit einigen Validierungen ausführt. Für manche Aufgaben haben wir solche kleinen Tests geschrieben damit du deine Lösung einfacher überprüfen kannst. Führe die Zelle direkt mal aus und schaue dir die Fehlermeldung an. Bestimmt hilft sie dir weiter."
   ]
  },
  {
   "cell_type": "code",
   "execution_count": null,
   "metadata": {},
   "outputs": [],
   "source": [
    "# PLATZ FÜR DEINE LÖSUNG"
   ]
  },
  {
   "cell_type": "code",
   "execution_count": null,
   "metadata": {},
   "outputs": [],
   "source": [
    "%run -i tests/lektion3_validiere_note.py"
   ]
  },
  {
   "cell_type": "markdown",
   "metadata": {},
   "source": [
    "5. Schreibe ein Programm, welches eine Zeitangabe in Stunden, Minuten und Sekunden in die Anzahl Sekunden insgesamt umrechnet"
   ]
  },
  {
   "cell_type": "code",
   "execution_count": null,
   "metadata": {},
   "outputs": [],
   "source": [
    "# PLATZ FÜR DEINE LÖSUNG"
   ]
  },
  {
   "cell_type": "code",
   "execution_count": null,
   "metadata": {},
   "outputs": [],
   "source": [
    "%run -i tests/lektion3_validiere_zeitangabe.py"
   ]
  },
  {
   "cell_type": "markdown",
   "metadata": {},
   "source": [
    "## Zeichenketten\n",
    "\n",
    "Beim Programmieren möchte man nicht nur mit Zahlen arbeiten. Man möchte auch Text abspeichern können, um dem Benutzer etwas mitzuteilen oder um den Text zu verarbeiten.\n",
    "\n",
    "Diesen Datentyp nennt man Zeichenketten oder auf englisch String. Er wird so genannt, weil wir nicht nur Text darin abspeichern können, sondern beliebige Zeichen wie Satzzeichen oder Zahlen. Sogar Leerschläge, Tabulatoren und Zeilenumbrüche werden vom Computer als Zeichen behandelt.\n",
    "\n",
    "Wir haben zwei Möglichkeiten Zeichenketten in Python darzustellen. So kann der String „Hallo Welt“ wie folgt dargestellt und z.B. in einer Variable abgespeichert werden:"
   ]
  },
  {
   "cell_type": "code",
   "execution_count": null,
   "metadata": {},
   "outputs": [],
   "source": [
    "'Hallo Welt'\n",
    "\"Hallo Welt\""
   ]
  },
  {
   "cell_type": "markdown",
   "metadata": {},
   "source": [
    "Dies dient dazu, dass auch ein String, welcher `'` oder `\"` enthält, ausgedrückt werden kann:"
   ]
  },
  {
   "cell_type": "code",
   "execution_count": null,
   "metadata": {},
   "outputs": [],
   "source": [
    "'Eine Zeichenkette, welche \"Anführungszeichen\" enthält'"
   ]
  },
  {
   "cell_type": "markdown",
   "metadata": {},
   "source": [
    "Teilweise haben wir Zeichenketten, welche auch Zahlen darstellen können. So ist zum Beispiel `'2.73'` eine Fließkommazahl oder `'42'` eine ganze Zahl. Python kann damit jedoch nicht rechnen, da alles zwischen Anführungs- und Schlusszeichen nur als Abfolge von Zeichen interpretiert wird.\n",
    "\n",
    "In diesem Fall müssen wir die Zeichenketten in Zahlen konvertieren. Dies geschieht mit dem [`float()`](https://docs.python.org/3.2/library/functions.html#float) Befehl für Fließkommazahlen respektive mit dem [`int()`](https://docs.python.org/3.2/library/functions.html#int) Befehl für Integer."
   ]
  },
  {
   "cell_type": "code",
   "execution_count": null,
   "metadata": {},
   "outputs": [],
   "source": [
    "int('42') # Dies gibt die Zahl ohne Anführungszeichen zurück"
   ]
  },
  {
   "cell_type": "code",
   "execution_count": null,
   "metadata": {},
   "outputs": [],
   "source": [
    "float('23.22') # Dies gibt eine Fließkommazahl zurück"
   ]
  },
  {
   "cell_type": "markdown",
   "metadata": {},
   "source": [
    "Haben wir hingegen eine Zahl, können wir mit dem Befehl [`str()`](https://docs.python.org/3.2/library/functions.html#str) daraus eine Zeichenkette machen. Dies funktioniert unabhängig davon, ob es sich um eine ganze Zahl oder eine Fließkommazahl handelt."
   ]
  },
  {
   "cell_type": "code",
   "execution_count": null,
   "metadata": {},
   "outputs": [],
   "source": [
    "str(7)"
   ]
  },
  {
   "cell_type": "code",
   "execution_count": null,
   "metadata": {},
   "outputs": [],
   "source": [
    "str(2.5)"
   ]
  },
  {
   "cell_type": "markdown",
   "metadata": {},
   "source": [
    "### Aufgaben"
   ]
  },
  {
   "cell_type": "markdown",
   "metadata": {},
   "source": [
    "1. Probiere die folgenden Operationen mit verschiedenen Strings aus und notiere dir, was der entsprechende Befehlt tut. Speichere dafür zuerst unter den Variablen `string_eins` und `string_zwei` zwei Zeichenketten (und tausche diese aus um verschiedene Dinge auszuprobieren). Ändere auch die angegebenen Zahlen und Buchstaben um die Funktionsweise zu verstehen:"
   ]
  },
  {
   "cell_type": "code",
   "execution_count": null,
   "metadata": {},
   "outputs": [],
   "source": [
    "string_eins = \"Hallo schöne, neue Welt\"\n",
    "string_zwei = \"Hallo Mars, ich bin ein Marsroboter\""
   ]
  },
  {
   "cell_type": "code",
   "execution_count": null,
   "metadata": {},
   "outputs": [],
   "source": [
    "string_eins[3]"
   ]
  },
  {
   "cell_type": "code",
   "execution_count": null,
   "metadata": {},
   "outputs": [],
   "source": [
    "string_eins.capitalize()"
   ]
  },
  {
   "cell_type": "code",
   "execution_count": null,
   "metadata": {},
   "outputs": [],
   "source": [
    "string_eins.lower()"
   ]
  },
  {
   "cell_type": "code",
   "execution_count": null,
   "metadata": {},
   "outputs": [],
   "source": [
    "string_eins.count('e')"
   ]
  },
  {
   "cell_type": "code",
   "execution_count": null,
   "metadata": {},
   "outputs": [],
   "source": [
    "string_eins.find('e')"
   ]
  },
  {
   "cell_type": "code",
   "execution_count": null,
   "metadata": {},
   "outputs": [],
   "source": [
    "string_eins + string_zwei"
   ]
  },
  {
   "cell_type": "markdown",
   "metadata": {},
   "source": [
    "> Weitere Befehle um mit Strings zu arbeiten findest du hier: http://docs.python.org/release/3.1.5/library/stdtypes.html#string-methods\n",
    "\n",
    "2. Benutzereingaben: Das folgende Programm liest eine Eingabe vom Benutzer ein und speichert dies in der Variable `eingabe`. Der Befehl [`input()`](https://docs.python.org/3.2/library/functions.html#input) liest immer Zeichenketten – nicht etwa Zahlen – ein.\n",
    "\n",
    "   Erweitere das Programm so, dass auch die folgenden Schritte ausgeführt werden und das Ergebnis in `konvertierte_eingabe` gespeichert wird:\n",
    "\n",
    "   - Der erste Buchstabe der Benutzereingabe wird in Großbuchstaben konvertiert.\n",
    "   - Dem Text wird ein Ausrufezeichen angehängt.\n",
    "   - Ergebnis wird mit [`print()`](https://docs.python.org/3.2/library/functions.html#print) auf dem Bildschirm ausgegeben."
   ]
  },
  {
   "cell_type": "code",
   "execution_count": null,
   "metadata": {},
   "outputs": [],
   "source": [
    "eingabe = input(\"Gib einen Text ein: \")\n",
    "\n",
    "# Ab hier kann das Programm nun den in der Variable eingabe\n",
    "# gespeicherten Text benutzen ..."
   ]
  },
  {
   "cell_type": "code",
   "execution_count": null,
   "metadata": {},
   "outputs": [],
   "source": [
    "%run -i tests/lektion3_validiere_string.py"
   ]
  },
  {
   "cell_type": "markdown",
   "metadata": {},
   "source": [
    "3. Notiere dir den Unterschied der beiden folgenden Code-Zeilen. Was passiert hier? Kann Python nicht rechnen oder gibt es für dieses Verhalten eine Erklärung?"
   ]
  },
  {
   "cell_type": "code",
   "execution_count": null,
   "metadata": {},
   "outputs": [],
   "source": [
    "'23' + '7'"
   ]
  },
  {
   "cell_type": "code",
   "execution_count": null,
   "metadata": {},
   "outputs": [],
   "source": [
    "23 + 7"
   ]
  },
  {
   "cell_type": "markdown",
   "metadata": {},
   "source": [
    "4. Schreibe ein Programm, welches vom Benutzer zwei ganze Zahlen einliest, in `zahl_1` und `zahl_2` speichert und anschließend die Summe `summe` der beiden Zahlen berechnet und ausgibt."
   ]
  },
  {
   "cell_type": "code",
   "execution_count": null,
   "metadata": {},
   "outputs": [],
   "source": [
    "# PLATZ FÜR DEINE LÖSUNG"
   ]
  },
  {
   "cell_type": "code",
   "execution_count": null,
   "metadata": {},
   "outputs": [],
   "source": [
    "%run -i tests/lektion3_validiere_summe.py"
   ]
  },
  {
   "cell_type": "markdown",
   "metadata": {},
   "source": [
    "## Listen"
   ]
  },
  {
   "cell_type": "markdown",
   "metadata": {},
   "source": [
    "Oft reichen Integer, Float und String Datentypen nicht aus, um die notwendigen Daten zu speichern. Meist wissen wir nämlich im Voraus nicht, wie viele Datensätze gespeichert werden sollen. Wenn du dich an die Aufgabe zur Berechnung der Noten zurückerinnerst, sind wir davon ausgegangen, dass du im Schuljahr vier große Prüfungen hast. Dies ist aber natürlich von Fach zu Fach verschieden, und es wäre vorteilhaft, wenn unser Programm eine im Voraus unbekannte Anzahl Noten speichern könnte.\n",
    "\n",
    "Python bietet für solche Problemstellungen verschiedene Datentypen. Die einfachste Struktur sind die Listen, welche wir in diesem Kapitel genauer anschauen wollen. Weiter gibt es noch Key-Value Speicher, welche in Python „Dictionaries“ heißen. Oder auch Mengen und Tupel im mathematischen Sinn.\n",
    "\n",
    "In Python können in einer Liste beliebige Datentypen gemischt gespeichert werden - es können sogar Listen in Listen gespeichert werden. Eine Liste beginnt mit einer geöffneten, eckigen Klammer `[`. Anschließend werden die Elemente mit Kommas getrennt aufgelistet. Am Schluss wird die Liste wieder mit `]` geschlossen.\n",
    "\n",
    "Dies ist ein Beispiel einer Liste:"
   ]
  },
  {
   "cell_type": "code",
   "execution_count": null,
   "metadata": {},
   "outputs": [],
   "source": [
    "liste = [3, 'King Arthur', ['Rabbit', 3.4], 2.44]\n",
    "liste"
   ]
  },
  {
   "cell_type": "markdown",
   "metadata": {},
   "source": [
    "Auf die einzelnen Elemente der Liste kann anschließend genau wie bei Zeichenketten über die Nummer des Elements in eckigen Klammern zugegriffen werden. Die Elemente werden auch hier, wie bei den Strings, ab 0 nummeriert."
   ]
  },
  {
   "cell_type": "code",
   "execution_count": null,
   "metadata": {},
   "outputs": [],
   "source": [
    "liste[0]"
   ]
  },
  {
   "cell_type": "code",
   "execution_count": null,
   "metadata": {},
   "outputs": [],
   "source": [
    "liste[1]"
   ]
  },
  {
   "cell_type": "code",
   "execution_count": null,
   "metadata": {},
   "outputs": [],
   "source": [
    "liste[2]"
   ]
  },
  {
   "cell_type": "markdown",
   "metadata": {},
   "source": [
    "Falls wir Listen geschachtelt haben - also als Element einer Liste wieder eine Liste gespeichert, können wir mehrere eckige Klammern hintereinander setzen, um auf die einzelnen Elemente zuzugreifen.\n",
    "\n",
    "Im obigen Beispiel ist an der Stelle 2 eine Liste gespeichert. Um auf die Elemente zuzugreifen, müssen wir in den ersten eckigen Klammern angeben, dass wir die Liste an Stelle 2 meinen und in den zweiten eckigen Klammern geben wir dann an, welches Element in der Unterliste wir herausholen möchten:\n",
    "\n"
   ]
  },
  {
   "cell_type": "code",
   "execution_count": null,
   "metadata": {},
   "outputs": [],
   "source": [
    "liste[2][0]"
   ]
  },
  {
   "cell_type": "code",
   "execution_count": null,
   "metadata": {},
   "outputs": [],
   "source": [
    "liste[2][1]"
   ]
  },
  {
   "cell_type": "markdown",
   "metadata": {},
   "source": [
    "Die eckigen Klammern können auch benutzt werden, um einen Wert in einer Liste zu überschreiben. Wir benutzen den Ausdruck, welcher auf ein Element zugreift (z.B. `liste[1]`) genau wie eine Variable, unter der wir mit `=` einen Wert speichern:"
   ]
  },
  {
   "cell_type": "code",
   "execution_count": null,
   "metadata": {},
   "outputs": [],
   "source": [
    "print(liste)\n",
    "liste[0] = 11\n",
    "print(liste)"
   ]
  },
  {
   "cell_type": "markdown",
   "metadata": {},
   "source": [
    "Wie bei anderen Datentypen haben Listen in Python viele nützliche Methoden. In den Aufgaben unten findest du wiederum eine Aufgabe, bei der du solche Methoden ausprobieren kannst.\n",
    "\n",
    "Eine vollständige Auflistung findest du auch in der Dokumentation unter http://docs.python.org/3/tutorial/datastructures.html#more-on-lists\n",
    "\n"
   ]
  },
  {
   "cell_type": "markdown",
   "metadata": {},
   "source": [
    "### Aufgaben"
   ]
  },
  {
   "cell_type": "markdown",
   "metadata": {},
   "source": [
    "1. Speichere die Elemente `'Schwalbe'`, `'Kokosnuss'`, `13`, `'Spam'` und `3.14` in einer Liste mit dem Namen liste ab und versuche herauszufinden, was die folgenden Methoden machen. \n",
    "\n",
    "> **Tipp:** Du kannst z.B. in jeder Zelle den [`print()`](https://docs.python.org/3.2/library/functions.html#print)\n",
    " Befehle verwenden um deine Liste auszugeben und so etwas über die Methoden herauszufinden."
   ]
  },
  {
   "cell_type": "code",
   "execution_count": null,
   "metadata": {},
   "outputs": [],
   "source": [
    "liste = # SPEICHERE HIER DEINE LISTE"
   ]
  },
  {
   "cell_type": "code",
   "execution_count": null,
   "metadata": {},
   "outputs": [],
   "source": [
    "liste[2] = 666"
   ]
  },
  {
   "cell_type": "code",
   "execution_count": null,
   "metadata": {},
   "outputs": [],
   "source": [
    "len(liste)"
   ]
  },
  {
   "cell_type": "code",
   "execution_count": null,
   "metadata": {},
   "outputs": [],
   "source": [
    "liste.append('Ni')"
   ]
  },
  {
   "cell_type": "code",
   "execution_count": null,
   "metadata": {},
   "outputs": [],
   "source": [
    "liste.extend([4, 5, 3.14])"
   ]
  },
  {
   "cell_type": "code",
   "execution_count": null,
   "metadata": {},
   "outputs": [],
   "source": [
    "liste.insert(2, 'Taube')"
   ]
  },
  {
   "cell_type": "code",
   "execution_count": null,
   "metadata": {},
   "outputs": [],
   "source": [
    "liste.count(3.14)"
   ]
  },
  {
   "cell_type": "code",
   "execution_count": null,
   "metadata": {},
   "outputs": [],
   "source": [
    "liste.index(3.14)"
   ]
  },
  {
   "cell_type": "code",
   "execution_count": null,
   "metadata": {},
   "outputs": [],
   "source": [
    "liste.remove(3.14)"
   ]
  },
  {
   "cell_type": "code",
   "execution_count": null,
   "metadata": {},
   "outputs": [],
   "source": [
    "liste.pop()"
   ]
  },
  {
   "cell_type": "code",
   "execution_count": null,
   "metadata": {},
   "outputs": [],
   "source": [
    "liste.reverse()"
   ]
  },
  {
   "cell_type": "code",
   "execution_count": null,
   "metadata": {},
   "outputs": [],
   "source": [
    "sum([1,3,5])"
   ]
  },
  {
   "cell_type": "markdown",
   "metadata": {},
   "source": [
    "2. Lies das folgende Programm und versuche zu erraten, was die Ausgabe ist. Probiere es anschließend aus und suche nach einer Erklärung des Verhaltens. Kannst du erklären warum wir uns in Python Variablen nicht als Speicherplätze sondern als Namensschilder für Objekte vorstellen?"
   ]
  },
  {
   "cell_type": "code",
   "execution_count": null,
   "metadata": {},
   "outputs": [],
   "source": [
    "liste_a = ['Hallo', 'schönes', 'Wetter']\n",
    "liste_b = liste_a\n",
    "\n",
    "liste_b[1] = 'schlechtes'\n",
    "\n",
    "print(liste_a[0], liste_a[1], liste_a[2])  "
   ]
  }
 ],
 "metadata": {
  "kernelspec": {
   "display_name": "Python 3",
   "language": "python",
   "name": "python3"
  },
  "language_info": {
   "codemirror_mode": {
    "name": "ipython",
    "version": 3
   },
   "file_extension": ".py",
   "mimetype": "text/x-python",
   "name": "python",
   "nbconvert_exporter": "python",
   "pygments_lexer": "ipython3",
   "version": "3.7.3"
  }
 },
 "nbformat": 4,
 "nbformat_minor": 2
}
